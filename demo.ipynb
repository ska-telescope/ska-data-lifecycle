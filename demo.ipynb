{
 "cells": [
  {
   "cell_type": "code",
   "execution_count": null,
   "metadata": {},
   "outputs": [],
   "source": [
    "import os\n",
    "from datetime import timedelta\n",
    "# from unittest import TestCase\n",
    "\n",
    "import inflect\n",
    "# import pytest\n",
    "import subprocess\n",
    "\n",
    "from ska_dlm import CONFIG, data_item, dlm_ingest, dlm_migration, dlm_request, dlm_storage\n",
    "from ska_dlm.dlm_db.db_access import DB\n",
    "from ska_dlm.dlm_storage.main import persist_new_data_items\n",
    "# from ska_dlm.exceptions import InvalidQueryParameters, ValueAlreadyInDB"
   ]
  },
  {
   "cell_type": "markdown",
   "metadata": {},
   "source": [
    "Set-up services:"
   ]
  },
  {
   "cell_type": "code",
   "execution_count": null,
   "metadata": {},
   "outputs": [],
   "source": [
    "subprocess.run(['make', 'python-pre-test'], check=True)\n",
    "!pgrep postgrest"
   ]
  },
  {
   "cell_type": "code",
   "execution_count": null,
   "metadata": {},
   "outputs": [],
   "source": [
    "def _clear_database():\n",
    "    DB.delete(CONFIG.DLM.dlm_table)\n",
    "    DB.delete(CONFIG.DLM.storage_config_table)\n",
    "    DB.delete(CONFIG.DLM.storage_table)\n",
    "    DB.delete(CONFIG.DLM.location_table)"
   ]
  },
  {
   "cell_type": "markdown",
   "metadata": {},
   "source": [
    "Define storage location and configure r-clone:"
   ]
  },
  {
   "cell_type": "code",
   "execution_count": null,
   "metadata": {},
   "outputs": [],
   "source": [
    "# we need a location to register the storage:\n",
    "location_id = dlm_storage.init_location(\"MyOwnStorage\", \"Server\")\n",
    "uuid = dlm_storage.init_storage(\n",
    "    storage_name=\"MyDisk\",\n",
    "    location_id=location_id,\n",
    "    storage_type=\"disk\",\n",
    "    storage_interface=\"posix\",\n",
    "    storage_capacity=100000000,\n",
    ")\n",
    "config = '{\"name\":\"MyDisk\",\"type\":\"local\", \"parameters\":{}}'\n",
    "dlm_storage.create_storage_config(uuid, config=config)\n",
    "# configure rclone:\n",
    "dlm_storage.rclone_config(config)"
   ]
  },
  {
   "cell_type": "markdown",
   "metadata": {},
   "source": [
    "Intialize a new data_item:"
   ]
  },
  {
   "cell_type": "code",
   "execution_count": null,
   "metadata": {},
   "outputs": [],
   "source": [
    "def initialize():\n",
    "    \"\"\"Initialize 50 data entries?\"\"\"\n",
    "    engine = inflect.engine()\n",
    "    success = True\n",
    "    for i in range(1, 51, 1):\n",
    "        ordinal = engine.number_to_words(engine.ordinal(i))\n",
    "        uid = dlm_ingest.init_data_item(f\"this/is/the/{ordinal}/test/item\")\n",
    "        if uid is None:\n",
    "            success = False\n",
    "    if success:\n",
    "        print(\"Success\")\n",
    "\n",
    "initialize()"
   ]
  },
  {
   "cell_type": "markdown",
   "metadata": {},
   "source": [
    "Ingest a data item:"
   ]
  },
  {
   "cell_type": "code",
   "execution_count": null,
   "metadata": {},
   "outputs": [],
   "source": [
    "uid = dlm_ingest.ingest_data_item(\"/my/ingest/test/item\", \"/LICENSE\", \"MyDisk\")\n",
    "assert len(uid) == 36"
   ]
  },
  {
   "cell_type": "markdown",
   "metadata": {},
   "source": [
    "Register a data item:"
   ]
  },
  {
   "cell_type": "code",
   "execution_count": null,
   "metadata": {},
   "outputs": [],
   "source": [
    "uid = dlm_ingest.register_data_item(\"/my/ingest/test/item2\", \"/LICENSE\", \"MyDisk\")\n",
    "assert len(uid) == 36"
   ]
  },
  {
   "cell_type": "markdown",
   "metadata": {},
   "source": [
    "Query for all expired data_items:"
   ]
  },
  {
   "cell_type": "code",
   "execution_count": null,
   "metadata": {},
   "outputs": [],
   "source": [
    "# empty set:\n",
    "result = dlm_request.query_expired() # our data item was assigned the default uid_expiration of now() + time '24:00'\n",
    "success = len(result) == 0\n",
    "print(result)\n",
    "assert success"
   ]
  },
  {
   "cell_type": "code",
   "execution_count": null,
   "metadata": {},
   "outputs": [],
   "source": [
    "# returns results:\n",
    "initialize()\n",
    "offset = timedelta(days=1)\n",
    "# query for items that are expired now or within the next 24 hours:\n",
    "result = dlm_request.query_expired(offset)\n",
    "success = len(result) != 0\n",
    "print(result)\n",
    "assert success"
   ]
  },
  {
   "cell_type": "markdown",
   "metadata": {},
   "source": [
    "Initialize a new location:"
   ]
  },
  {
   "cell_type": "code",
   "execution_count": null,
   "metadata": {},
   "outputs": [],
   "source": [
    "\"\"\"initialisation on a (new?) location.\"\"\"\n",
    "# This returns an empty string if unsuccessful\n",
    "dlm_storage.init_location(\"TestLocation\", \"SKAO Data Centre\")\n",
    "location = dlm_storage.query_location(location_name=\"TestLocation\")[0]\n",
    "assert location[\"location_type\"] == \"SKAO Data Centre\"\n",
    "print(location)"
   ]
  },
  {
   "cell_type": "markdown",
   "metadata": {},
   "source": [
    "Update a data_item record with a file location, a state and a phase:"
   ]
  },
  {
   "cell_type": "code",
   "execution_count": null,
   "metadata": {},
   "outputs": [],
   "source": [
    "fname = \"dlm_test_file_1.txt\"\n",
    "with open(fname, \"w\", encoding=\"UTF-8\") as tfile:\n",
    "    tfile.write(\"Welcome to the great DLM world!\")\n",
    "fpath = os.path.abspath(\"dlm_test_file.txt\")\n",
    "fpath = fpath.replace(f\"{os.environ['HOME']}/\", \"\")\n",
    "uid = dlm_ingest.init_data_item(item_name=\"this/is/the/first/test/item\")\n",
    "storage_id = dlm_storage.query_storage(storage_name=\"MyDisk\")[0][\"storage_id\"]\n",
    "data_item.set_uri(uid, fpath, storage_id)\n",
    "# check that the uri of the data item (with uid = uid) is equal to fpath\n",
    "assert dlm_request.query_data_item(uid=uid)[0][\"uri\"] == fpath\n",
    "print('Location:',dlm_request.query_data_item(uid=uid)[0][\"uri\"])\n",
    "\n",
    "data_item.set_state(uid, \"READY\")\n",
    "data_item.set_phase(uid, \"PLASMA\")\n",
    "# query all data items with uid=uid, and check their state & phase is what we set it to be:\n",
    "items = dlm_request.query_data_item(uid=uid)\n",
    "assert len(items) == 1\n",
    "assert items[0][\"item_state\"] == \"READY\"\n",
    "print('State:',items[0][\"item_state\"])\n",
    "assert items[0][\"item_phase\"] == \"PLASMA\"\n",
    "print('Phase:',items[0][\"item_phase\"])\n",
    "os.unlink(fname)"
   ]
  },
  {
   "cell_type": "markdown",
   "metadata": {},
   "source": [
    "Delete the payload of a data_item:"
   ]
  },
  {
   "cell_type": "code",
   "execution_count": null,
   "metadata": {},
   "outputs": [],
   "source": [
    "fpath = \"dlm_test_file_2.txt\"\n",
    "with open(fpath, \"w\", encoding=\"UTF-8\") as tfile:\n",
    "    tfile.write(\"Welcome to the great DLM world!\")\n",
    "# add the file to the database:\n",
    "storage_id = dlm_storage.query_storage(storage_name=\"MyDisk\")[0][\"storage_id\"]\n",
    "uid = dlm_ingest.ingest_data_item(fpath)\n",
    "queried_uid = dlm_request.query_data_item(item_name=fpath)[0][\"uid\"]\n",
    "assert uid == queried_uid\n",
    "dlm_storage.delete_data_item_payload(uid) # delete the payload\n",
    "data_item.set_uri(uid, fpath, storage_id)\n",
    "data_item.set_state(uid, \"DELETED\")\n",
    "assert dlm_request.query_data_item(item_name=fpath)[0][\"uri\"] == fpath\n",
    "assert dlm_request.query_data_item(item_name=fpath)[0][\"item_state\"] == \"DELETED\"\n",
    "print('State:',dlm_request.query_data_item(item_name=fpath)[0][\"item_state\"])"
   ]
  },
  {
   "cell_type": "markdown",
   "metadata": {},
   "source": [
    "Add a new location, storage and configuration to the rclone server:"
   ]
  },
  {
   "cell_type": "code",
   "execution_count": null,
   "metadata": {},
   "outputs": [],
   "source": [
    "def storage_config():\n",
    "    location = dlm_storage.query_location(\"MyHost\")\n",
    "    if location:\n",
    "        location_id = location[0][\"location_id\"]\n",
    "    else:\n",
    "        location_id = dlm_storage.init_location(\"MyHost\", \"Server\")\n",
    "    assert len(location_id) == 36\n",
    "    config = '{\"name\":\"MyDisk2\",\"type\":\"local\", \"parameters\":{}}'\n",
    "    uuid = dlm_storage.init_storage(\n",
    "        storage_name=\"MyDisk2\",\n",
    "        location_id=location_id,\n",
    "        storage_type=\"disk\",\n",
    "        storage_interface=\"posix\",\n",
    "        storage_capacity=100000000,\n",
    "    )\n",
    "    assert len(uuid) == 36\n",
    "    config_id = dlm_storage.create_storage_config(uuid, config=config)\n",
    "    assert len(config_id) == 36\n",
    "    # configure rclone\n",
    "    assert dlm_storage.rclone_config(config) is True\n",
    "\n",
    "storage_config()"
   ]
  },
  {
   "cell_type": "markdown",
   "metadata": {},
   "source": [
    "Copy a test file from one storage to another:"
   ]
  },
  {
   "cell_type": "code",
   "execution_count": null,
   "metadata": {},
   "outputs": [],
   "source": [
    "\"\"\"Copy a test file from one storage to another.\"\"\"\n",
    "# storage_config()\n",
    "dest_id = dlm_storage.query_storage(\"MyDisk2\")[0][\"storage_id\"]\n",
    "uid = dlm_ingest.register_data_item(\"/my/ingest/test/item2\", \"/LICENSE\", \"MyDisk\")\n",
    "assert len(uid) == 36\n",
    "dlm_migration.copy_data_item(uid=uid, destination_id=dest_id, path=\"LICENSE_copy\")\n",
    "os.unlink(\"LICENSE_copy\")\n",
    "\n",
    "# ERROR: '/my/ingest/test/item2' is already registered on storage"
   ]
  },
  {
   "cell_type": "markdown",
   "metadata": {},
   "source": [
    "Tear down services:"
   ]
  },
  {
   "cell_type": "code",
   "execution_count": null,
   "metadata": {},
   "outputs": [],
   "source": [
    "_clear_database()"
   ]
  },
  {
   "cell_type": "code",
   "execution_count": null,
   "metadata": {},
   "outputs": [],
   "source": [
    "!make python-post-test"
   ]
  },
  {
   "cell_type": "code",
   "execution_count": null,
   "metadata": {},
   "outputs": [],
   "source": []
  }
 ],
 "metadata": {
  "kernelspec": {
   "display_name": "Python 3",
   "language": "python",
   "name": "python3"
  },
  "language_info": {
   "codemirror_mode": {
    "name": "ipython",
    "version": 3
   },
   "file_extension": ".py",
   "mimetype": "text/x-python",
   "name": "python",
   "nbconvert_exporter": "python",
   "pygments_lexer": "ipython3",
   "version": "3.11.7"
  }
 },
 "nbformat": 4,
 "nbformat_minor": 2
}
