{
 "cells": [
  {
   "cell_type": "code",
   "execution_count": null,
   "metadata": {},
   "outputs": [],
   "source": [
    "import os\n",
    "from datetime import timedelta\n",
    "from unittest import TestCase\n",
    "\n",
    "import inflect\n",
    "import pytest\n",
    "import subprocess\n",
    "\n",
    "from ska_dlm import CONFIG, data_item, dlm_ingest, dlm_migration, dlm_request, dlm_storage\n",
    "from ska_dlm.dlm_db.db_access import DB\n",
    "from ska_dlm.dlm_storage.main import persist_new_data_items\n",
    "from ska_dlm.exceptions import InvalidQueryParameters, ValueAlreadyInDB"
   ]
  },
  {
   "cell_type": "markdown",
   "metadata": {},
   "source": [
    "Set-up services:"
   ]
  },
  {
   "cell_type": "code",
   "execution_count": null,
   "metadata": {},
   "outputs": [],
   "source": [
    "subprocess.run(['make', 'python-pre-test'], check=True)\n",
    "!pgrep postgrest"
   ]
  },
  {
   "cell_type": "code",
   "execution_count": null,
   "metadata": {},
   "outputs": [],
   "source": [
    "def _clear_database():\n",
    "    DB.delete(CONFIG.DLM.dlm_table)\n",
    "    DB.delete(CONFIG.DLM.storage_config_table)\n",
    "    DB.delete(CONFIG.DLM.storage_table)\n",
    "    DB.delete(CONFIG.DLM.location_table)"
   ]
  },
  {
   "cell_type": "markdown",
   "metadata": {},
   "source": [
    "Define storage location and configure r-clone:"
   ]
  },
  {
   "cell_type": "code",
   "execution_count": null,
   "metadata": {},
   "outputs": [],
   "source": [
    "# @pytest.fixture(scope=\"function\", autouse=True)\n",
    "# def setup_and_teardown(self):\n",
    "\"\"\"Initialze the tests.\"\"\"\n",
    "_clear_database()\n",
    "\n",
    "# we need a location to register the storage\n",
    "location_id = dlm_storage.init_location(\"MyOwnStorage\", \"Server\")\n",
    "uuid = dlm_storage.init_storage(\n",
    "    storage_name=\"MyDisk\",\n",
    "    location_id=location_id,\n",
    "    storage_type=\"disk\",\n",
    "    storage_interface=\"posix\",\n",
    "    storage_capacity=100000000,\n",
    ")\n",
    "config = '{\"name\":\"MyDisk\",\"type\":\"local\", \"parameters\":{}}'\n",
    "dlm_storage.create_storage_config(uuid, config=config)\n",
    "# configure rclone:\n",
    "dlm_storage.rclone_config(config)\n",
    "    # yield\n",
    "    # _clear_database()"
   ]
  },
  {
   "cell_type": "markdown",
   "metadata": {},
   "source": [
    "Intialize a new data_item:"
   ]
  },
  {
   "cell_type": "code",
   "execution_count": null,
   "metadata": {},
   "outputs": [],
   "source": [
    "# test_init(self):\n",
    "\"\"\"Test data_item init.\"\"\"\n",
    "engine = inflect.engine()\n",
    "success = True\n",
    "for i in range(1, 51, 1):\n",
    "    ordinal = engine.number_to_words(engine.ordinal(i))\n",
    "    uid = dlm_ingest.init_data_item(f\"this/is/the/{ordinal}/test/item\")\n",
    "    if uid is None:\n",
    "        success = False\n",
    "assert success\n",
    "print(\"True\")"
   ]
  },
  {
   "cell_type": "markdown",
   "metadata": {},
   "source": [
    "Ingest a data item:"
   ]
  },
  {
   "cell_type": "code",
   "execution_count": null,
   "metadata": {},
   "outputs": [],
   "source": [
    "# def test_ingest_data_item(self):\n",
    "\"\"\"Test the ingest_data_item function.\"\"\"\n",
    "uid = dlm_ingest.ingest_data_item(\"/my/ingest/test/item\", \"/LICENSE\", \"MyDisk\")\n",
    "if len(uid) == 36:\n",
    "    print('Pass')\n",
    "else:\n",
    "    print('Fail')\n",
    "# assert len(uid) == 36"
   ]
  },
  {
   "cell_type": "markdown",
   "metadata": {},
   "source": [
    "Open the GUI in the browser:"
   ]
  },
  {
   "cell_type": "code",
   "execution_count": null,
   "metadata": {},
   "outputs": [],
   "source": [
    "# change to the PostGUI repository directory:\n",
    "!cd /Users/00110564/ska/PostGUI \\\n",
    "    && npm install 2>/dev/null \\\n",
    "    && export NODE_OPTIONS=--openssl-legacy-provider \\\n",
    "    && npm start\n",
    "\n",
    "# This process runs in the background - kill manually."
   ]
  },
  {
   "cell_type": "code",
   "execution_count": null,
   "metadata": {},
   "outputs": [],
   "source": [
    "_clear_database()"
   ]
  },
  {
   "cell_type": "markdown",
   "metadata": {},
   "source": [
    "Tear down services:"
   ]
  },
  {
   "cell_type": "code",
   "execution_count": null,
   "metadata": {},
   "outputs": [],
   "source": [
    "!make python-post-test"
   ]
  }
 ],
 "metadata": {
  "kernelspec": {
   "display_name": "Python 3",
   "language": "python",
   "name": "python3"
  },
  "language_info": {
   "codemirror_mode": {
    "name": "ipython",
    "version": 3
   },
   "file_extension": ".py",
   "mimetype": "text/x-python",
   "name": "python",
   "nbconvert_exporter": "python",
   "pygments_lexer": "ipython3",
   "version": "3.11.7"
  }
 },
 "nbformat": 4,
 "nbformat_minor": 2
}
