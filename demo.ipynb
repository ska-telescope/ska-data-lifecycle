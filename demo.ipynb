{
 "cells": [
  {
   "cell_type": "code",
   "execution_count": null,
   "metadata": {},
   "outputs": [],
   "source": [
    "import subprocess\n",
    "import yaml\n",
    "\n",
    "from ska_dlm import CONFIG, data_item, dlm_ingest, dlm_migration, dlm_storage\n",
    "from ska_dlm.dlm_db.db_access import DB\n",
    "\n",
    "def _clear_database():\n",
    "    DB.delete(CONFIG.DLM.dlm_table)\n",
    "    DB.delete(CONFIG.DLM.storage_config_table)\n",
    "    DB.delete(CONFIG.DLM.storage_table)\n",
    "    DB.delete(CONFIG.DLM.location_table)"
   ]
  },
  {
   "cell_type": "markdown",
   "metadata": {},
   "source": [
    "Set-up services:"
   ]
  },
  {
   "cell_type": "code",
   "execution_count": null,
   "metadata": {},
   "outputs": [],
   "source": [
    "subprocess.run(['./setup-demo.sh'], shell=True)"
   ]
  },
  {
   "cell_type": "code",
   "execution_count": null,
   "metadata": {},
   "outputs": [],
   "source": [
    "uid = dlm_ingest.register_data_item(\"/my/ingest/test/item\", \"/LICENSE\", \"MyDisk1\")"
   ]
  },
  {
   "cell_type": "code",
   "execution_count": 15,
   "metadata": {},
   "outputs": [
    {
     "name": "stdout",
     "output_type": "stream",
     "text": [
      "location_id of Pawsey Centre: 9270be09-2d98-4910-a5a6-f2b3d627e4c4\n"
     ]
    }
   ],
   "source": [
    "# we need a location to register the storage:\n",
    "location_id = dlm_storage.init_location(location_name=\"Pawsey\", location_type=\"HPC centre\", location_city=\"Perth\", location_facility=\"Pawsey\")\n",
    "print(f\"location_id of Pawsey Centre: {location_id}\")"
   ]
  },
  {
   "cell_type": "markdown",
   "metadata": {},
   "source": [
    "Define ACACIA as a storage endpoint:"
   ]
  },
  {
   "cell_type": "code",
   "execution_count": 16,
   "metadata": {},
   "outputs": [],
   "source": [
    "uuid = dlm_storage.init_storage(\n",
    "    storage_name=\"myacacia\",\n",
    "    location_id=location_id,\n",
    "    storage_type=\"object store\",\n",
    "    storage_interface=\"s3\",\n",
    "    storage_capacity=5000000000,\n",
    "    storage_phase_level=\"LIQUID\",\n",
    ")"
   ]
  },
  {
   "cell_type": "markdown",
   "metadata": {},
   "source": [
    "Configure rclone:"
   ]
  },
  {
   "cell_type": "code",
   "execution_count": 17,
   "metadata": {},
   "outputs": [],
   "source": [
    "with open(\".secrets.yaml\") as f:\n",
    "    acacia_config = yaml.safe_load(f)[\"acacia_config\"]\n",
    "    \n",
    "config_id = dlm_storage.create_storage_config(uuid, config=acacia_config)"
   ]
  },
  {
   "cell_type": "markdown",
   "metadata": {},
   "source": [
    "Register a local data_item:"
   ]
  },
  {
   "cell_type": "markdown",
   "metadata": {},
   "source": [
    "Register a data_item on ACACIA:"
   ]
  },
  {
   "cell_type": "code",
   "execution_count": 18,
   "metadata": {},
   "outputs": [],
   "source": [
    "uid = dlm_ingest.register_data_item(item_name = \"this/is/the/1st/package\", uri = \"rascil/1197634128-cal_avg32.ms.tar.xj\", storage_name = \"myacacia\")"
   ]
  },
  {
   "cell_type": "markdown",
   "metadata": {},
   "source": [
    "Copy the data_item from ACACIA to local:"
   ]
  },
  {
   "cell_type": "code",
   "execution_count": 19,
   "metadata": {},
   "outputs": [
    {
     "data": {
      "text/plain": [
       "'55471768-50af-45c1-967a-e03521ad90a4'"
      ]
     },
     "execution_count": 19,
     "metadata": {},
     "output_type": "execute_result"
    }
   ],
   "source": [
    "copy_uid = dlm_migration.copy_data_item(item_name=\"this/is/the/1st/package\", destination_name=\"MyDisk1\", path=\"tmp/testdata\")"
   ]
  },
  {
   "cell_type": "markdown",
   "metadata": {},
   "source": [
    "Query for all expired data_items:"
   ]
  },
  {
   "cell_type": "code",
   "execution_count": 21,
   "metadata": {},
   "outputs": [
    {
     "data": {
      "text/plain": [
       "'55471768-50af-45c1-967a-e03521ad90a4'"
      ]
     },
     "execution_count": 21,
     "metadata": {},
     "output_type": "execute_result"
    }
   ],
   "source": [
    "data_item.set_uid_expiration('55471768-50af-45c1-967a-e03521ad90a4', \"2024-01-01\")"
   ]
  },
  {
   "cell_type": "code",
   "execution_count": 22,
   "metadata": {},
   "outputs": [
    {
     "name": "stdout",
     "output_type": "stream",
     "text": [
      "scripts/teardown_services.sh .postgrest.pid .rclone.pid .dlmsm.pid\n",
      "postgREST process killed successfully\n",
      "rclone server process killed successfully\n",
      "dlm sm service process killed successfully\n",
      "[[ -z \"$GITLAB_CI\" ]] \\\n",
      "\t&& make docker-compose-down \\\n",
      "\t|| echo \"Not stopping docker-compose containers in CI\"\n",
      "make[1]: Entering directory '/home/awicenec/git/ska-data-lifecycle'\n",
      "docker compose --file docker/test-services.docker-compose.yml down\n",
      "\u001b[1A\u001b[1B\u001b[0G\u001b[?25l[+] Running 0/0\n",
      " \u001b[33m⠋\u001b[0m Container docker-ska-dlm-1  Stopping                                    \u001b[34m0.1s \u001b[0m\n",
      "\u001b[?25h\u001b[1A\u001b[1A\u001b[0G\u001b[?25l[+] Running 0/1\n",
      " \u001b[33m⠙\u001b[0m Container docker-ska-dlm-1  Stopping                                    \u001b[34m0.2s \u001b[0m\n",
      "\u001b[?25h\u001b[1A\u001b[1A\u001b[0G\u001b[?25l[+] Running 0/1\n",
      " \u001b[33m⠹\u001b[0m Container docker-ska-dlm-1  Stopping                                    \u001b[34m0.3s \u001b[0m\n",
      "\u001b[?25h\u001b[1A\u001b[1A\u001b[0G\u001b[?25l[+] Running 0/1\n",
      " \u001b[33m⠸\u001b[0m Container docker-ska-dlm-1  Stopping                                    \u001b[34m0.4s \u001b[0m\n",
      "\u001b[?25h\u001b[1A\u001b[1A\u001b[0G\u001b[?25l\u001b[34m[+] Running 1/1\u001b[0m\n",
      " \u001b[32m✔\u001b[0m Container docker-ska-dlm-1  \u001b[32mStopped\u001b[0m                                     \u001b[34m0.5s \u001b[0m\n",
      "\u001b[?25h\u001b[1A\u001b[1A\u001b[0G\u001b[?25l\u001b[34m[+] Running 1/1\u001b[0m\n",
      " \u001b[32m✔\u001b[0m Container docker-ska-dlm-1  \u001b[32mRemoved\u001b[0m                                     \u001b[34m0.5s \u001b[0m\n",
      " \u001b[33m⠋\u001b[0m Network docker_default      Removing                                    \u001b[34m0.1s \u001b[0m\n",
      "\u001b[?25h\u001b[1A\u001b[1A\u001b[1A\u001b[0G\u001b[?25l[+] Running 1/2\n",
      " \u001b[32m✔\u001b[0m Container docker-ska-dlm-1  \u001b[32mRemoved\u001b[0m                                     \u001b[34m0.5s \u001b[0m\n",
      " \u001b[33m⠙\u001b[0m Network docker_default      Removing                                    \u001b[34m0.2s \u001b[0m\n",
      "\u001b[?25h\u001b[1A\u001b[1A\u001b[1A\u001b[0G\u001b[?25l[+] Running 1/2\n",
      " \u001b[32m✔\u001b[0m Container docker-ska-dlm-1  \u001b[32mRemoved\u001b[0m                                     \u001b[34m0.5s \u001b[0m\n",
      " \u001b[33m⠹\u001b[0m Network docker_default      Removing                                    \u001b[34m0.3s \u001b[0m\n",
      "\u001b[?25h\u001b[1A\u001b[1A\u001b[1A\u001b[0G\u001b[?25l[+] Running 1/2\n",
      " \u001b[32m✔\u001b[0m Container docker-ska-dlm-1  \u001b[32mRemoved\u001b[0m                                     \u001b[34m0.5s \u001b[0m\n",
      " \u001b[33m⠸\u001b[0m Network docker_default      Removing                                    \u001b[34m0.4s \u001b[0m\n",
      "\u001b[?25h\u001b[1A\u001b[1A\u001b[1A\u001b[0G\u001b[?25l\u001b[34m[+] Running 2/2\u001b[0m\n",
      " \u001b[32m✔\u001b[0m Container docker-ska-dlm-1  \u001b[32mRemoved\u001b[0m                                     \u001b[34m0.5s \u001b[0m\n",
      " \u001b[32m✔\u001b[0m Network docker_default      \u001b[32mRemoved\u001b[0m                                     \u001b[34m0.4s \u001b[0m\n",
      "\u001b[?25hmake[1]: Leaving directory '/home/awicenec/git/ska-data-lifecycle'\n"
     ]
    }
   ],
   "source": [
    "!make python-post-test"
   ]
  },
  {
   "cell_type": "code",
   "execution_count": null,
   "metadata": {},
   "outputs": [],
   "source": []
  }
 ],
 "metadata": {
  "kernelspec": {
   "display_name": "Python 3",
   "language": "python",
   "name": "python3"
  },
  "language_info": {
   "codemirror_mode": {
    "name": "ipython",
    "version": 3
   },
   "file_extension": ".py",
   "mimetype": "text/x-python",
   "name": "python",
   "nbconvert_exporter": "python",
   "pygments_lexer": "ipython3",
   "version": "3.10.6"
  }
 },
 "nbformat": 4,
 "nbformat_minor": 2
}
