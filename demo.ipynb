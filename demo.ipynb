{
 "cells": [
  {
   "cell_type": "code",
   "execution_count": null,
   "metadata": {},
   "outputs": [],
   "source": [
    "import os\n",
    "from datetime import timedelta\n",
    "from unittest import TestCase\n",
    "\n",
    "import inflect\n",
    "import pytest\n",
    "import subprocess\n",
    "\n",
    "from ska_dlm import CONFIG, data_item, dlm_ingest, dlm_migration, dlm_request, dlm_storage\n",
    "from ska_dlm.dlm_db.db_access import DB\n",
    "from ska_dlm.dlm_storage.main import persist_new_data_items\n",
    "from ska_dlm.exceptions import InvalidQueryParameters, ValueAlreadyInDB"
   ]
  },
  {
   "cell_type": "markdown",
   "metadata": {},
   "source": [
    "Set-up services:"
   ]
  },
  {
   "cell_type": "code",
   "execution_count": null,
   "metadata": {},
   "outputs": [],
   "source": [
    "subprocess.run(['make', 'python-pre-test'], check=True)\n",
    "!pgrep postgrest"
   ]
  },
  {
   "cell_type": "code",
   "execution_count": null,
   "metadata": {},
   "outputs": [],
   "source": [
    "def _clear_database():\n",
    "    DB.delete(CONFIG.DLM.dlm_table)\n",
    "    DB.delete(CONFIG.DLM.storage_config_table)\n",
    "    DB.delete(CONFIG.DLM.storage_table)\n",
    "    DB.delete(CONFIG.DLM.location_table)"
   ]
  },
  {
   "cell_type": "markdown",
   "metadata": {},
   "source": [
    "Define storage location and configure r-clone:"
   ]
  },
  {
   "cell_type": "code",
   "execution_count": null,
   "metadata": {},
   "outputs": [],
   "source": [
    "# @pytest.fixture(scope=\"function\", autouse=True)\n",
    "# def setup_and_teardown(self):\n",
    "\"\"\"Initialze the tests.\"\"\"\n",
    "_clear_database()\n",
    "\n",
    "# we need a location to register the storage\n",
    "location_id = dlm_storage.init_location(\"MyOwnStorage\", \"Server\")\n",
    "uuid = dlm_storage.init_storage(\n",
    "    storage_name=\"MyDisk\",\n",
    "    location_id=location_id,\n",
    "    storage_type=\"disk\",\n",
    "    storage_interface=\"posix\",\n",
    "    storage_capacity=100000000,\n",
    ")\n",
    "config = '{\"name\":\"MyDisk\",\"type\":\"local\", \"parameters\":{}}'\n",
    "dlm_storage.create_storage_config(uuid, config=config)\n",
    "# configure rclone:\n",
    "dlm_storage.rclone_config(config)\n",
    "    # yield\n",
    "    # _clear_database()"
   ]
  },
  {
   "cell_type": "markdown",
   "metadata": {},
   "source": [
    "Intialize a new data_item:"
   ]
  },
  {
   "cell_type": "code",
   "execution_count": null,
   "metadata": {},
   "outputs": [],
   "source": [
    "def test_init():\n",
    "    \"\"\"Test data_item init.\"\"\"\n",
    "    engine = inflect.engine()\n",
    "    success = True\n",
    "    for i in range(1, 51, 1):\n",
    "        ordinal = engine.number_to_words(engine.ordinal(i))\n",
    "        uid = dlm_ingest.init_data_item(f\"this/is/the/{ordinal}/test/item\")\n",
    "        if uid is None:\n",
    "            success = False\n",
    "    if success:\n",
    "        print(\"Success\")\n",
    "\n",
    "test_init()"
   ]
  },
  {
   "cell_type": "markdown",
   "metadata": {},
   "source": [
    "Ingest a data item:"
   ]
  },
  {
   "cell_type": "code",
   "execution_count": null,
   "metadata": {},
   "outputs": [],
   "source": [
    "# def test_ingest_data_item(self):\n",
    "\"\"\"Test the ingest_data_item function.\"\"\"\n",
    "uid = dlm_ingest.ingest_data_item(\"/my/ingest/test/item\", \"/LICENSE\", \"MyDisk\")\n",
    "if len(uid) == 36:\n",
    "    print('Pass')\n",
    "else:\n",
    "    print('Fail')\n",
    "# assert len(uid) == 36"
   ]
  },
  {
   "cell_type": "markdown",
   "metadata": {},
   "source": [
    "Register a data item:"
   ]
  },
  {
   "cell_type": "code",
   "execution_count": null,
   "metadata": {},
   "outputs": [],
   "source": [
    "uid = dlm_ingest.register_data_item(\"/my/ingest/test/item2\", \"/LICENSE\", \"MyDisk\")\n",
    "assert len(uid) == 36\n",
    "with pytest.raises(ValueAlreadyInDB, match=\"Item is already registered\"):\n",
    "    dlm_ingest.register_data_item(\"/my/ingest/test/item2\", \"/LICENSE\", \"MyDisk\")"
   ]
  },
  {
   "cell_type": "markdown",
   "metadata": {},
   "source": [
    "Query for all expired data_items:"
   ]
  },
  {
   "cell_type": "code",
   "execution_count": null,
   "metadata": {},
   "outputs": [],
   "source": [
    "# empty set:\n",
    "result = dlm_request.query_expired()\n",
    "success = len(result) == 0\n",
    "assert success"
   ]
  },
  {
   "cell_type": "code",
   "execution_count": null,
   "metadata": {},
   "outputs": [],
   "source": [
    "# returns results:\n",
    "test_init()\n",
    "offset = timedelta(days=1)\n",
    "result = dlm_request.query_expired(offset)\n",
    "success = len(result) != 0\n",
    "assert success"
   ]
  },
  {
   "cell_type": "code",
   "execution_count": null,
   "metadata": {},
   "outputs": [],
   "source": [
    "# def test_location_init(self):\n",
    "\"\"\"Test initialisation on a location.\"\"\"\n",
    "# This returns an empty string if unsuccessful\n",
    "# with pytest.raises(InvalidQueryParameters):\n",
    "#     dlm_storage.init_location()\n",
    "dlm_storage.init_location(\"TestLocation\", \"SKAO Data Centre\")\n",
    "location = dlm_storage.query_location(location_name=\"TestLocation\")[0]\n",
    "assert location[\"location_type\"] == \"SKAO Data Centre\""
   ]
  },
  {
   "cell_type": "markdown",
   "metadata": {},
   "source": [
    "Update a data_item record with a file location, a state and a phase:"
   ]
  },
  {
   "cell_type": "code",
   "execution_count": null,
   "metadata": {},
   "outputs": [],
   "source": [
    "fname = \"dlm_test_file_1.txt\"\n",
    "with open(fname, \"w\", encoding=\"UTF-8\") as tfile:\n",
    "    tfile.write(\"Welcome to the great DLM world!\")\n",
    "fpath = os.path.abspath(\"dlm_test_file.txt\")\n",
    "fpath = fpath.replace(f\"{os.environ['HOME']}/\", \"\")\n",
    "uid = dlm_ingest.init_data_item(item_name=\"this/is/the/first/test/item\")\n",
    "storage_id = dlm_storage.query_storage(storage_name=\"MyDisk\")[0][\"storage_id\"]\n",
    "data_item.set_uri(uid, fpath, storage_id)\n",
    "# check that the uri of the data item (with uid = uid) is equal to fpath\n",
    "assert dlm_request.query_data_item(uid=uid)[0][\"uri\"] == fpath\n",
    "data_item.set_state(uid, \"READY\")\n",
    "data_item.set_phase(uid, \"PLASMA\")\n",
    "# query all data items with uid=uid, and check their state & phase is what we set it to be:\n",
    "items = dlm_request.query_data_item(uid=uid)\n",
    "assert len(items) == 1\n",
    "assert items[0][\"item_state\"] == \"READY\"\n",
    "assert items[0][\"item_phase\"] == \"PLASMA\"\n",
    "print(\"Success\")\n",
    "os.unlink(fname)"
   ]
  },
  {
   "cell_type": "markdown",
   "metadata": {},
   "source": [
    "Delete the payload of a data_item:"
   ]
  },
  {
   "cell_type": "code",
   "execution_count": null,
   "metadata": {},
   "outputs": [],
   "source": [
    "fpath = \"dlm_test_file_2.txt\"\n",
    "with open(fpath, \"w\", encoding=\"UTF-8\") as tfile:\n",
    "    tfile.write(\"Welcome to the great DLM world!\")\n",
    "# add the file to the database:\n",
    "storage_id = dlm_storage.query_storage(storage_name=\"MyDisk\")[0][\"storage_id\"]\n",
    "uid = dlm_ingest.ingest_data_item(fpath)\n",
    "queried_uid = dlm_request.query_data_item(item_name=fpath)[0][\"uid\"]\n",
    "assert uid == queried_uid\n",
    "dlm_storage.delete_data_item_payload(uid)\n",
    "data_item.set_uri(uid, fpath, storage_id)\n",
    "data_item.set_state(uid, \"DELETED\")\n",
    "assert dlm_request.query_data_item(item_name=fpath)[0][\"uri\"] == fpath\n",
    "assert dlm_request.query_data_item(item_name=fpath)[0][\"item_state\"] == \"DELETED\""
   ]
  },
  {
   "cell_type": "markdown",
   "metadata": {},
   "source": [
    "Tear down services:"
   ]
  },
  {
   "cell_type": "code",
   "execution_count": null,
   "metadata": {},
   "outputs": [],
   "source": [
    "_clear_database()"
   ]
  },
  {
   "cell_type": "code",
   "execution_count": null,
   "metadata": {},
   "outputs": [],
   "source": [
    "!make python-post-test"
   ]
  }
 ],
 "metadata": {
  "kernelspec": {
   "display_name": "Python 3",
   "language": "python",
   "name": "python3"
  },
  "language_info": {
   "codemirror_mode": {
    "name": "ipython",
    "version": 3
   },
   "file_extension": ".py",
   "mimetype": "text/x-python",
   "name": "python",
   "nbconvert_exporter": "python",
   "pygments_lexer": "ipython3",
   "version": "3.11.7"
  }
 },
 "nbformat": 4,
 "nbformat_minor": 2
}
