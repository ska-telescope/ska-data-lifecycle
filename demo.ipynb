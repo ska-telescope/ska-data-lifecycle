{
 "cells": [
  {
   "cell_type": "code",
   "execution_count": null,
   "metadata": {},
   "outputs": [],
   "source": [
    "import subprocess\n",
    "import yaml\n",
    "\n",
    "from ska_dlm import CONFIG, data_item, dlm_ingest, dlm_migration, dlm_storage\n",
    "from ska_dlm.dlm_db.db_access import DB\n",
    "\n",
    "def _clear_database():\n",
    "    DB.delete(CONFIG.DLM.dlm_table)\n",
    "    DB.delete(CONFIG.DLM.storage_config_table)\n",
    "    DB.delete(CONFIG.DLM.storage_table)\n",
    "    DB.delete(CONFIG.DLM.location_table)"
   ]
  },
  {
   "cell_type": "markdown",
   "metadata": {},
   "source": [
    "Set-up services:"
   ]
  },
  {
   "cell_type": "code",
   "execution_count": null,
   "metadata": {},
   "outputs": [],
   "source": [
    "subprocess.run(['./setup-demo.sh'], shell=True)"
   ]
  },
  {
   "cell_type": "code",
   "execution_count": null,
   "metadata": {},
   "outputs": [],
   "source": [
    "uid = dlm_ingest.register_data_item(\"/my/ingest/test/item\", \"/LICENSE\", \"MyDisk1\")"
   ]
  },
  {
   "cell_type": "markdown",
   "metadata": {},
   "source": [
    "Create Pawsey location:"
   ]
  },
  {
   "cell_type": "code",
   "execution_count": null,
   "metadata": {},
   "outputs": [],
   "source": [
    "# we need a location to register the storage:\n",
    "location_id = dlm_storage.init_location(location_name=\"Pawsey\", location_type=\"HPC centre\", location_city=\"Perth\", location_facility=\"Pawsey\")\n",
    "print(f\"location_id of Pawsey Centre: {location_id}\")"
   ]
  },
  {
   "cell_type": "markdown",
   "metadata": {},
   "source": [
    "Define ACACIA as a storage endpoint:"
   ]
  },
  {
   "cell_type": "code",
   "execution_count": null,
   "metadata": {},
   "outputs": [],
   "source": [
    "uuid = dlm_storage.init_storage(\n",
    "    storage_name=\"myacacia\",\n",
    "    location_id=location_id,\n",
    "    storage_type=\"object store\",\n",
    "    storage_interface=\"s3\",\n",
    "    storage_capacity=5000000000,\n",
    "    storage_phase_level=\"LIQUID\",\n",
    ")"
   ]
  },
  {
   "cell_type": "markdown",
   "metadata": {},
   "source": [
    "Configure rclone for ACACIA:"
   ]
  },
  {
   "cell_type": "code",
   "execution_count": null,
   "metadata": {},
   "outputs": [],
   "source": [
    "with open(\".secrets.yaml\") as f:\n",
    "    acacia_config = yaml.safe_load(f)[\"acacia_config\"]\n",
    "    \n",
    "config_id = dlm_storage.create_storage_config(uuid, config=acacia_config)"
   ]
  },
  {
   "cell_type": "markdown",
   "metadata": {},
   "source": [
    "Register an existing data_item on ACACIA:"
   ]
  },
  {
   "cell_type": "code",
   "execution_count": null,
   "metadata": {},
   "outputs": [],
   "source": [
    "uid = dlm_ingest.register_data_item(item_name = \"this/is/the/1st/package\", uri = \"rascil/1197634128-cal_avg32.ms.tar.xj\", storage_name = \"myacacia\")"
   ]
  },
  {
   "cell_type": "markdown",
   "metadata": {},
   "source": [
    "Copy that data_item from ACACIA to local:"
   ]
  },
  {
   "cell_type": "code",
   "execution_count": null,
   "metadata": {},
   "outputs": [],
   "source": [
    "copy_uid = dlm_migration.copy_data_item(item_name=\"this/is/the/1st/package\", destination_name=\"MyDisk1\", path=\"tmp/testdata.ms.tar.xj\")"
   ]
  },
  {
   "cell_type": "markdown",
   "metadata": {},
   "source": [
    "Expire a data_item:"
   ]
  },
  {
   "cell_type": "code",
   "execution_count": null,
   "metadata": {},
   "outputs": [],
   "source": [
    "data_item.set_uid_expiration(copy_uid, \"2024-01-01\")"
   ]
  },
  {
   "cell_type": "code",
   "execution_count": null,
   "metadata": {},
   "outputs": [],
   "source": [
    "!make python-post-test"
   ]
  },
  {
   "cell_type": "code",
   "execution_count": null,
   "metadata": {},
   "outputs": [],
   "source": []
  }
 ],
 "metadata": {
  "kernelspec": {
   "display_name": "Python 3",
   "language": "python",
   "name": "python3"
  },
  "language_info": {
   "codemirror_mode": {
    "name": "ipython",
    "version": 3
   },
   "file_extension": ".py",
   "mimetype": "text/x-python",
   "name": "python",
   "nbconvert_exporter": "python",
   "pygments_lexer": "ipython3",
   "version": "3.10.6"
  }
 },
 "nbformat": 4,
 "nbformat_minor": 2
}
